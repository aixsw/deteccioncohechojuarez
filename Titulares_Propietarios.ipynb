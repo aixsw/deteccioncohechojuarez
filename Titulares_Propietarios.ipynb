{
 "cells": [
  {
   "cell_type": "code",
   "execution_count": 1,
   "metadata": {
    "ExecuteTime": {
     "end_time": "2019-11-27T01:39:37.413648Z",
     "start_time": "2019-11-27T01:39:36.461384Z"
    }
   },
   "outputs": [],
   "source": [
    "import pandas as pd\n",
    "import numpy as np\n",
    "import matplotlib.pyplot as plt\n",
    "\n",
    "from sklearn.manifold import TSNE\n",
    "from sklearn.feature_extraction.text import TfidfVectorizer\n",
    "\n",
    "from fuzzywuzzy import process\n",
    "from fuzzywuzzy import fuzz"
   ]
  },
  {
   "cell_type": "code",
   "execution_count": 2,
   "metadata": {
    "ExecuteTime": {
     "end_time": "2019-11-27T01:39:37.483725Z",
     "start_time": "2019-11-27T01:39:37.417836Z"
    }
   },
   "outputs": [],
   "source": [
    "lic = pd.read_csv('data/raw/Copia de AGOSTO COMPRAS MUNICIPALES 2016-2019-SOCIAL TIC.xlsx - Compras.csv').dropna(subset=['PROVEEDOR'])\n",
    "soc = pd.read_csv('data/processed/socios_padron_proveedores_long.csv')"
   ]
  },
  {
   "cell_type": "code",
   "execution_count": 3,
   "metadata": {
    "ExecuteTime": {
     "end_time": "2019-11-27T01:39:37.524583Z",
     "start_time": "2019-11-27T01:39:37.487025Z"
    }
   },
   "outputs": [
    {
     "data": {
      "text/html": [
       "<div>\n",
       "<style scoped>\n",
       "    .dataframe tbody tr th:only-of-type {\n",
       "        vertical-align: middle;\n",
       "    }\n",
       "\n",
       "    .dataframe tbody tr th {\n",
       "        vertical-align: top;\n",
       "    }\n",
       "\n",
       "    .dataframe thead th {\n",
       "        text-align: right;\n",
       "    }\n",
       "</style>\n",
       "<table border=\"1\" class=\"dataframe\">\n",
       "  <thead>\n",
       "    <tr style=\"text-align: right;\">\n",
       "      <th></th>\n",
       "      <th>id</th>\n",
       "      <th>PROVEEDOR</th>\n",
       "      <th>UNIDAD.ADMINISTRATIVA.CONVOCANTE</th>\n",
       "      <th>.MONTO.TOTAL.O.MÁXIMO</th>\n",
       "    </tr>\n",
       "  </thead>\n",
       "  <tbody>\n",
       "    <tr>\n",
       "      <th>869</th>\n",
       "      <td>870</td>\n",
       "      <td>26 DE MEXICO</td>\n",
       "      <td>OFICIALÍA MAYOR</td>\n",
       "      <td>NaN</td>\n",
       "    </tr>\n",
       "    <tr>\n",
       "      <th>152</th>\n",
       "      <td>153</td>\n",
       "      <td>26 DE MEXICO</td>\n",
       "      <td>OFICIALÍA MAYOR</td>\n",
       "      <td>790000.0</td>\n",
       "    </tr>\n",
       "    <tr>\n",
       "      <th>138</th>\n",
       "      <td>139</td>\n",
       "      <td>26 DE MEXICO</td>\n",
       "      <td>OFICIALÍA MAYOR</td>\n",
       "      <td>720000.0</td>\n",
       "    </tr>\n",
       "    <tr>\n",
       "      <th>799</th>\n",
       "      <td>800</td>\n",
       "      <td>399 PROJEY DEVELOPMENT</td>\n",
       "      <td>OFICIALÍA MAYOR</td>\n",
       "      <td>3572800.0</td>\n",
       "    </tr>\n",
       "    <tr>\n",
       "      <th>333</th>\n",
       "      <td>334</td>\n",
       "      <td>AALIANZA, INGENIERIA Y CONSTRUCCION</td>\n",
       "      <td>OFICIALÍA MAYOR</td>\n",
       "      <td>5051800.0</td>\n",
       "    </tr>\n",
       "  </tbody>\n",
       "</table>\n",
       "</div>"
      ],
      "text/plain": [
       "      id                            PROVEEDOR  \\\n",
       "869  870                         26 DE MEXICO   \n",
       "152  153                         26 DE MEXICO   \n",
       "138  139                         26 DE MEXICO   \n",
       "799  800               399 PROJEY DEVELOPMENT   \n",
       "333  334  AALIANZA, INGENIERIA Y CONSTRUCCION   \n",
       "\n",
       "    UNIDAD.ADMINISTRATIVA.CONVOCANTE  .MONTO.TOTAL.O.MÁXIMO  \n",
       "869                  OFICIALÍA MAYOR                    NaN  \n",
       "152                  OFICIALÍA MAYOR               790000.0  \n",
       "138                  OFICIALÍA MAYOR               720000.0  \n",
       "799                  OFICIALÍA MAYOR              3572800.0  \n",
       "333                  OFICIALÍA MAYOR              5051800.0  "
      ]
     },
     "execution_count": 3,
     "metadata": {},
     "output_type": "execute_result"
    }
   ],
   "source": [
    "pd.read_csv('data/processed/compras_complete_cases_graph.csv').sort_values('PROVEEDOR').head()"
   ]
  },
  {
   "cell_type": "code",
   "execution_count": 4,
   "metadata": {
    "ExecuteTime": {
     "end_time": "2019-11-27T01:39:37.547271Z",
     "start_time": "2019-11-27T01:39:37.527479Z"
    }
   },
   "outputs": [],
   "source": [
    "lic = lic.assign(prov=list(\n",
    "    lic\n",
    "    .PROVEEDOR\n",
    "    .str.lower()\n",
    "    .str.replace('s\\.a\\..*', '')\n",
    "    .str.replace('sa\\ de\\ .*', '')\n",
    "    .str.findall(pat='([a-záéíóúñ0-9]+)')\n",
    "    .apply(lambda x: ' '.join(x))\n",
    "))"
   ]
  },
  {
   "cell_type": "code",
   "execution_count": 5,
   "metadata": {
    "ExecuteTime": {
     "end_time": "2019-11-27T01:39:37.575574Z",
     "start_time": "2019-11-27T01:39:37.548978Z"
    }
   },
   "outputs": [],
   "source": [
    "soc = soc.assign(\n",
    "    emps=\n",
    "        soc['Nombre de la empresa']\n",
    "        .str.lower()\n",
    "        .str.replace('s\\.a\\..*', '')\n",
    "        .str.replace('sa\\ de\\ .*', '')\n",
    "        .str.replace('á', 'a')\n",
    "        .str.replace('é', 'e')\n",
    "        .str.replace('í', 'i')\n",
    "        .str.replace('ó', 'o')\n",
    "        .str.replace('ú', 'u')\n",
    "        .str.findall(pat='([a-ñ0-9]+)')\n",
    "        .apply(lambda x: ' '.join(x)))"
   ]
  },
  {
   "cell_type": "code",
   "execution_count": 6,
   "metadata": {
    "ExecuteTime": {
     "end_time": "2019-11-27T01:39:37.611377Z",
     "start_time": "2019-11-27T01:39:37.578866Z"
    }
   },
   "outputs": [
    {
     "data": {
      "text/plain": [
       "TfidfVectorizer(analyzer='word', binary=False, decode_error='strict',\n",
       "                dtype=<class 'numpy.float64'>, encoding='utf-8',\n",
       "                input='content', lowercase=True, max_df=1.0, max_features=None,\n",
       "                min_df=1, ngram_range=(1, 1), norm='l2', preprocessor=None,\n",
       "                smooth_idf=True, stop_words=None, strip_accents=None,\n",
       "                sublinear_tf=False, token_pattern='(?u)\\\\b\\\\w\\\\w+\\\\b',\n",
       "                tokenizer=None, use_idf=True, vocabulary=None)"
      ]
     },
     "execution_count": 6,
     "metadata": {},
     "output_type": "execute_result"
    }
   ],
   "source": [
    "tfidf = TfidfVectorizer()\n",
    "tfidf.fit(pd.Series(lic.prov.tolist() + soc.emps.tolist()))"
   ]
  },
  {
   "cell_type": "code",
   "execution_count": 7,
   "metadata": {
    "ExecuteTime": {
     "end_time": "2019-11-27T01:39:37.620331Z",
     "start_time": "2019-11-27T01:39:37.613365Z"
    }
   },
   "outputs": [],
   "source": [
    "def limit_tfidf(string, model, lim):\n",
    "    return pd.DataFrame.from_dict(\n",
    "        dict(model.transform([string]).todok()),\n",
    "             orient='index').reset_index().assign(\n",
    "            row=lambda x: x['index'].str[0],\n",
    "            col=lambda x: x['index'].str[1]).assign(\n",
    "            palabra=lambda x: x.col.apply(lambda y: list(model.get_feature_names())[y]),\n",
    "        ).rename(columns={0: 'tfidf'}).query('tfidf > '+str(lim)).palabra.str.cat(sep=' ')"
   ]
  },
  {
   "cell_type": "code",
   "execution_count": 8,
   "metadata": {
    "ExecuteTime": {
     "end_time": "2019-11-27T01:39:52.170889Z",
     "start_time": "2019-11-27T01:39:37.625156Z"
    }
   },
   "outputs": [],
   "source": [
    "lic = lic.assign(prov_tfidf=lambda x: x.prov.apply(lambda y: limit_tfidf(y, tfidf, 0.4)))\n",
    "soc = soc.assign(emp_tfidf=lambda x: x.emps.apply(lambda y: limit_tfidf(y, tfidf, 0.4)))"
   ]
  },
  {
   "cell_type": "code",
   "execution_count": 9,
   "metadata": {
    "ExecuteTime": {
     "end_time": "2019-11-27T01:39:52.188468Z",
     "start_time": "2019-11-27T01:39:52.173239Z"
    }
   },
   "outputs": [],
   "source": [
    "proveedores_aux = lic[~lic.dropna(subset=['PROVEEDOR'])['PROVEEDOR'].str.startswith('C. ')][['PROVEEDOR', 'prov_tfidf']].drop_duplicates()\n",
    "\n",
    "proveedores = list(proveedores_aux.prov_tfidf)"
   ]
  },
  {
   "cell_type": "code",
   "execution_count": 10,
   "metadata": {
    "ExecuteTime": {
     "end_time": "2019-11-27T01:39:52.197454Z",
     "start_time": "2019-11-27T01:39:52.190341Z"
    }
   },
   "outputs": [],
   "source": [
    "emps_aux = soc[['Nombre de la empresa', 'emp_tfidf']].drop_duplicates()\n",
    "\n",
    "emps = list(emps_aux.emp_tfidf)"
   ]
  },
  {
   "cell_type": "code",
   "execution_count": 11,
   "metadata": {
    "ExecuteTime": {
     "end_time": "2019-11-27T01:39:53.843114Z",
     "start_time": "2019-11-27T01:39:52.199914Z"
    }
   },
   "outputs": [],
   "source": [
    "emp = []\n",
    "score = []\n",
    "\n",
    "for p in proveedores:\n",
    "    aaa = pd.DataFrame({\n",
    "        'e': emps\n",
    "    }).assign(score=lambda x: x.e.apply(lambda y: fuzz.token_sort_ratio(p, y))).sort_values('score', ascending=False)\n",
    "    emp.append(aaa.e.iloc[0])\n",
    "    score.append(aaa.score.iloc[0])"
   ]
  },
  {
   "cell_type": "code",
   "execution_count": 12,
   "metadata": {
    "ExecuteTime": {
     "end_time": "2019-11-27T01:39:53.868447Z",
     "start_time": "2019-11-27T01:39:53.845479Z"
    }
   },
   "outputs": [],
   "source": [
    "cruce_prov_emp = pd.DataFrame({\n",
    "    'emp_tfidf': emp,\n",
    "    'prov': proveedores,\n",
    "    'PROVEEDOR': proveedores_aux.PROVEEDOR,\n",
    "    'score': score\n",
    "}).merge(emps_aux).sort_values('score').query('score > 81')[['PROVEEDOR', 'Nombre de la empresa']]"
   ]
  },
  {
   "cell_type": "code",
   "execution_count": 14,
   "metadata": {
    "ExecuteTime": {
     "end_time": "2019-11-27T01:41:26.369828Z",
     "start_time": "2019-11-27T01:41:26.280332Z"
    },
    "scrolled": false
   },
   "outputs": [],
   "source": [
    "(\n",
    "    lic[['TITULAR DE LA DEPENDENCIA SOLICITANTE', 'PROVEEDOR']]\n",
    "#     [~lic.PROVEEDOR.str.contains('C. ')]\n",
    "    .reset_index().rename(columns={'index': 'id_lic'})\n",
    "    .merge(cruce_prov_emp, how='left')\n",
    "    .merge(soc[['Nombre de la empresa', 'Propietarios']], how='left')\n",
    "#     .assign(Propietarios=lambda x: \n",
    "#         x.Propietarios.mask(x.Propietarios.isna() & x.PROVEEDOR.str.startswith('C.'), x.PROVEEDOR.str.lower().str[2:]))\n",
    "    .dropna(subset=['TITULAR DE LA DEPENDENCIA SOLICITANTE', 'Propietarios'])\n",
    "    .assign(\n",
    "        apell_titular=lambda x: x['TITULAR DE LA DEPENDENCIA SOLICITANTE'].str.lower().str.split().str[-2:].str.join(' '),\n",
    "        apell_prop=lambda x: x['Propietarios'].str.lower().str.split().str[-2:].str.join(' '))\n",
    "    .assign(score_fuzzy=lambda x: x.apply(lambda y: \n",
    "        fuzz.token_set_ratio(\n",
    "            y.apell_titular,\n",
    "            y.apell_prop),\n",
    "        axis=1))\n",
    "    .assign(score_directo=lambda x: x.apply(lambda y:\n",
    "        max(y.apell_titular.split()[0] == y.apell_prop.split()[0],\n",
    "           y.apell_titular.split()[0] == y.apell_prop.split()[1],\n",
    "           y.apell_titular.split()[1] == y.apell_prop.split()[0],\n",
    "           y.apell_titular.split()[1] == y.apell_prop.split()[1]), axis=1))\n",
    "    .sort_values('score_fuzzy', ascending=False)\n",
    "    .to_csv('data/processed/lic_emp.csv')\n",
    ")"
   ]
  },
  {
   "cell_type": "code",
   "execution_count": null,
   "metadata": {},
   "outputs": [],
   "source": []
  },
  {
   "cell_type": "code",
   "execution_count": null,
   "metadata": {},
   "outputs": [],
   "source": []
  },
  {
   "cell_type": "code",
   "execution_count": null,
   "metadata": {},
   "outputs": [],
   "source": []
  }
 ],
 "metadata": {
  "kernelspec": {
   "display_name": "Python 3",
   "language": "python",
   "name": "python3"
  },
  "language_info": {
   "codemirror_mode": {
    "name": "ipython",
    "version": 3
   },
   "file_extension": ".py",
   "mimetype": "text/x-python",
   "name": "python",
   "nbconvert_exporter": "python",
   "pygments_lexer": "ipython3",
   "version": "3.6.0"
  },
  "toc": {
   "colors": {
    "hover_highlight": "#DAA520",
    "running_highlight": "#FF0000",
    "selected_highlight": "#FFD700"
   },
   "moveMenuLeft": true,
   "nav_menu": {
    "height": "12px",
    "width": "252px"
   },
   "navigate_menu": true,
   "number_sections": true,
   "sideBar": true,
   "threshold": 4,
   "toc_cell": false,
   "toc_section_display": "block",
   "toc_window_display": false,
   "widenNotebook": false
  }
 },
 "nbformat": 4,
 "nbformat_minor": 2
}
